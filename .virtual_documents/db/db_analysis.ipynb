import pandas as pd

# Cargar los datasets
productos_df = pd.read_csv("./db/productos_sinteticos.csv")
ventas_df = pd.read_csv("./db/ventas_sinteticas.csv")

# Mostrar las primeras filas
print("Productos:")
print(productos_df.head())
print("\nVentas:")
print(ventas_df.head())



# Información básica
print("Información de productos:")
print(productos_df.info())
print("\nInformación de ventas:")
print(ventas_df.info())

# Resumen estadístico
print("\nEstadísticas de productos:")
print(productos_df.describe())
print("\nEstadísticas de ventas:")
print(ventas_df.describe())



print("\nDistribución de categorías:")
print(productos_df["Categoría"].value_counts())



import matplotlib.pyplot as plt

productos_df["Precio Original"].hist(bins=20)
plt.title("Distribución de precios")
plt.xlabel("Precio")
plt.ylabel("Frecuencia")
plt.show()



print("\nDistribución de descuentos aplicados:")
print(ventas_df["Descuento Aplicado (%)"].value_counts())



# Asegúrate de que las columnas de fechas estén en formato datetime
ventas_df["Fecha de Venta"] = pd.to_datetime(ventas_df["Fecha de Venta"])
productos_df["Fecha de Expiración"] = pd.to_datetime(productos_df["Fecha de Expiración"])

# Combinar con productos para traer la fecha de expiración
ventas_df = ventas_df.merge(productos_df[["Producto ID", "Fecha de Expiración"]], on="Producto ID")

# Calcular los días restantes para caducar
ventas_df["Dias_para_Caducar"] = (ventas_df["Fecha de Expiración"] - ventas_df["Fecha de Venta"]).dt.days

# Verifica el DataFrame actualizado
print(ventas_df.head())

ventas_df.plot.scatter(x="Dias_para_Caducar", y="Descuento Aplicado (%)", alpha=0.5)
plt.title("Relación entre días para caducar y descuentos")
plt.xlabel("Días para caducar")
plt.ylabel("Descuento (%)")
plt.show()



# Productos con precios extremadamente altos o bajos
print("Productos con precios extremos:")
print(productos_df[productos_df["Precio Original"] > 100])

# Ventas con descuentos negativos o stock restante negativo
print("Ventas con inconsistencias:")
print(ventas_df[ventas_df["Descuento Aplicado (%)"] < 0])
print(ventas_df[ventas_df["Stock Restante"] < 0])

