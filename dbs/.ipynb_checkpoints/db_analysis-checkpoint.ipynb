{
 "cells": [
  {
   "cell_type": "code",
   "execution_count": 1,
   "id": "23444463-856b-4722-8b86-99e457474154",
   "metadata": {},
   "outputs": [
    {
     "name": "stdout",
     "output_type": "stream",
     "text": [
      "Productos:\n",
      "   Producto ID   Producto  Categoría Fecha de Producción Fecha de Expiración  \\\n",
      "0            1       tend   Verduras          2024-12-10          2024-12-17   \n",
      "1            2      alone  Panadería          2024-12-10          2024-12-15   \n",
      "2            3      worry    Lácteos          2024-12-10          2024-12-20   \n",
      "3            4  structure     Carnes          2024-12-10          2024-12-27   \n",
      "4            5        bar    Lácteos          2024-12-10          2024-12-19   \n",
      "\n",
      "   Precio Original  Stock Inicial  \n",
      "0             1.07            402  \n",
      "1             1.73            386  \n",
      "2             2.02            249  \n",
      "3             8.10            174  \n",
      "4             2.25            125  \n",
      "\n",
      "Ventas:\n",
      "   Producto ID Fecha de Venta  Ventas (unidades)  Descuento Aplicado (%)  \\\n",
      "0            1     2024-12-10                  8                       0   \n",
      "1            2     2024-12-10                 11                       0   \n",
      "2            3     2024-12-10                  4                       0   \n",
      "3            4     2024-12-10                  4                      20   \n",
      "4            5     2024-12-10                  2                       0   \n",
      "\n",
      "   Precio Final  Descuento Aplicado (bool)  Stock Restante  \n",
      "0          1.07                      False             394  \n",
      "1          1.73                      False             375  \n",
      "2          2.02                      False             245  \n",
      "3          6.48                       True             170  \n",
      "4          2.25                      False             123  \n"
     ]
    }
   ],
   "source": [
    "import pandas as pd\n",
    "\n",
    "# Cargar los datasets\n",
    "productos_df = pd.read_csv(\"./db/productos_sinteticos.csv\")\n",
    "ventas_df = pd.read_csv(\"./db/ventas_sinteticas.csv\")\n",
    "\n",
    "# Mostrar las primeras filas\n",
    "print(\"Productos:\")\n",
    "print(productos_df.head())\n",
    "print(\"\\nVentas:\")\n",
    "print(ventas_df.head())\n"
   ]
  },
  {
   "cell_type": "code",
   "execution_count": 2,
   "id": "58922d85-2f45-4dff-b63b-49ca550c9b5e",
   "metadata": {},
   "outputs": [
    {
     "name": "stdout",
     "output_type": "stream",
     "text": [
      "Información de productos:\n",
      "<class 'pandas.core.frame.DataFrame'>\n",
      "RangeIndex: 800 entries, 0 to 799\n",
      "Data columns (total 7 columns):\n",
      " #   Column               Non-Null Count  Dtype  \n",
      "---  ------               --------------  -----  \n",
      " 0   Producto ID          800 non-null    int64  \n",
      " 1   Producto             800 non-null    object \n",
      " 2   Categoría            800 non-null    object \n",
      " 3   Fecha de Producción  800 non-null    object \n",
      " 4   Fecha de Expiración  800 non-null    object \n",
      " 5   Precio Original      800 non-null    float64\n",
      " 6   Stock Inicial        800 non-null    int64  \n",
      "dtypes: float64(1), int64(2), object(4)\n",
      "memory usage: 43.9+ KB\n",
      "None\n",
      "\n",
      "Información de ventas:\n",
      "<class 'pandas.core.frame.DataFrame'>\n",
      "RangeIndex: 101600 entries, 0 to 101599\n",
      "Data columns (total 7 columns):\n",
      " #   Column                     Non-Null Count   Dtype  \n",
      "---  ------                     --------------   -----  \n",
      " 0   Producto ID                101600 non-null  int64  \n",
      " 1   Fecha de Venta             101600 non-null  object \n",
      " 2   Ventas (unidades)          101600 non-null  int64  \n",
      " 3   Descuento Aplicado (%)     101600 non-null  int64  \n",
      " 4   Precio Final               101600 non-null  float64\n",
      " 5   Descuento Aplicado (bool)  101600 non-null  bool   \n",
      " 6   Stock Restante             101600 non-null  int64  \n",
      "dtypes: bool(1), float64(1), int64(4), object(1)\n",
      "memory usage: 4.7+ MB\n",
      "None\n",
      "\n",
      "Estadísticas de productos:\n",
      "       Producto ID  Precio Original  Stock Inicial\n",
      "count     800.0000       800.000000     800.000000\n",
      "mean      400.5000         3.324550     272.177500\n",
      "std       231.0844         3.461988     131.824668\n",
      "min         1.0000         0.510000      50.000000\n",
      "25%       200.7500         1.280000     157.500000\n",
      "50%       400.5000         1.895000     272.000000\n",
      "75%       600.2500         2.910000     393.250000\n",
      "max       800.0000        14.970000     500.000000\n",
      "\n",
      "Estadísticas de ventas:\n",
      "         Producto ID  Ventas (unidades)  Descuento Aplicado (%)  \\\n",
      "count  101600.000000      101600.000000           101600.000000   \n",
      "mean      400.500000           5.095000                4.539764   \n",
      "std       230.941064           2.773037                9.239787   \n",
      "min         1.000000           0.000000                0.000000   \n",
      "25%       200.750000           3.000000                0.000000   \n",
      "50%       400.500000           5.000000                0.000000   \n",
      "75%       600.250000           7.000000                0.000000   \n",
      "max       800.000000          19.000000               30.000000   \n",
      "\n",
      "        Precio Final  Stock Restante  \n",
      "count  101600.000000   101600.000000  \n",
      "mean        3.173178      261.964990  \n",
      "std         3.330394      126.429322  \n",
      "min         0.360000       47.000000  \n",
      "25%         1.220000      151.000000  \n",
      "50%         1.810000      262.000000  \n",
      "75%         2.860000      378.000000  \n",
      "max        14.970000      490.000000  \n"
     ]
    }
   ],
   "source": [
    "# Información básica\n",
    "print(\"Información de productos:\")\n",
    "print(productos_df.info())\n",
    "print(\"\\nInformación de ventas:\")\n",
    "print(ventas_df.info())\n",
    "\n",
    "# Resumen estadístico\n",
    "print(\"\\nEstadísticas de productos:\")\n",
    "print(productos_df.describe())\n",
    "print(\"\\nEstadísticas de ventas:\")\n",
    "print(ventas_df.describe())\n"
   ]
  },
  {
   "cell_type": "code",
   "execution_count": 3,
   "id": "fe66808f-01a7-4b87-b56e-a10ef197f4f3",
   "metadata": {},
   "outputs": [
    {
     "name": "stdout",
     "output_type": "stream",
     "text": [
      "\n",
      "Distribución de categorías:\n",
      "Categoría\n",
      "Verduras     182\n",
      "Lácteos      165\n",
      "Carnes       162\n",
      "Panadería    150\n",
      "Frutas       141\n",
      "Name: count, dtype: int64\n"
     ]
    }
   ],
   "source": [
    "print(\"\\nDistribución de categorías:\")\n",
    "print(productos_df[\"Categoría\"].value_counts())\n"
   ]
  },
  {
   "cell_type": "code",
   "execution_count": 4,
   "id": "1dcce2b7-7d10-4a6a-b4df-cddb0061732e",
   "metadata": {},
   "outputs": [
    {
     "data": {
      "image/png": "[encoded data removed]",
      "text/plain": [
       "<Figure size 640x480 with 1 Axes>"
      ]
     },
     "metadata": {},
     "output_type": "display_data"
    }
   ],
   "source": [
    "import matplotlib.pyplot as plt\n",
    "\n",
    "productos_df[\"Precio Original\"].hist(bins=20)\n",
    "plt.title(\"Distribución de precios\")\n",
    "plt.xlabel(\"Precio\")\n",
    "plt.ylabel(\"Frecuencia\")\n",
    "plt.show()\n"
   ]
  },
  {
   "cell_type": "code",
   "execution_count": 5,
   "id": "11ae24c7-5ab7-4f97-9af7-42b7c3f2f04b",
   "metadata": {},
   "outputs": [
    {
     "name": "stdout",
     "output_type": "stream",
     "text": [
      "\n",
      "Distribución de descuentos aplicados:\n",
      "Descuento Aplicado (%)\n",
      "0     78560\n",
      "20     7698\n",
      "30     7693\n",
      "10     7649\n",
      "Name: count, dtype: int64\n"
     ]
    }
   ],
   "source": [
    "print(\"\\nDistribución de descuentos aplicados:\")\n",
    "print(ventas_df[\"Descuento Aplicado (%)\"].value_counts())\n"
   ]
  },
  {
   "cell_type": "code",
   "execution_count": 6,
   "id": "4ca38e1a-1122-42b3-9f61-275e231b3b53",
   "metadata": {},
   "outputs": [
    {
     "name": "stdout",
     "output_type": "stream",
     "text": [
      "   Producto ID Fecha de Venta  Ventas (unidades)  Descuento Aplicado (%)  \\\n",
      "0            1     2024-12-10                  8                       0   \n",
      "1            2     2024-12-10                 11                       0   \n",
      "2            3     2024-12-10                  4                       0   \n",
      "3            4     2024-12-10                  4                      20   \n",
      "4            5     2024-12-10                  2                       0   \n",
      "\n",
      "   Precio Final  Descuento Aplicado (bool)  Stock Restante  \\\n",
      "0          1.07                      False             394   \n",
      "1          1.73                      False             375   \n",
      "2          2.02                      False             245   \n",
      "3          6.48                       True             170   \n",
      "4          2.25                      False             123   \n",
      "\n",
      "  Fecha de Expiración  Dias_para_Caducar  \n",
      "0          2024-12-17                  7  \n",
      "1          2024-12-15                  5  \n",
      "2          2024-12-20                 10  \n",
      "3          2024-12-27                 17  \n",
      "4          2024-12-19                  9  \n"
     ]
    },
    {
     "data": {
      "image/png": "[encoded data removed]",
      "text/plain": [
       "<Figure size 640x480 with 1 Axes>"
      ]
     },
     "metadata": {},
     "output_type": "display_data"
    }
   ],
   "source": [
    "# Asegúrate de que las columnas de fechas estén en formato datetime\n",
    "ventas_df[\"Fecha de Venta\"] = pd.to_datetime(ventas_df[\"Fecha de Venta\"])\n",
    "productos_df[\"Fecha de Expiración\"] = pd.to_datetime(productos_df[\"Fecha de Expiración\"])\n",
    "\n",
    "# Combinar con productos para traer la fecha de expiración\n",
    "ventas_df = ventas_df.merge(productos_df[[\"Producto ID\", \"Fecha de Expiración\"]], on=\"Producto ID\")\n",
    "\n",
    "# Calcular los días restantes para caducar\n",
    "ventas_df[\"Dias_para_Caducar\"] = (ventas_df[\"Fecha de Expiración\"] - ventas_df[\"Fecha de Venta\"]).dt.days\n",
    "\n",
    "# Verifica el DataFrame actualizado\n",
    "print(ventas_df.head())\n",
    "\n",
    "ventas_df.plot.scatter(x=\"Dias_para_Caducar\", y=\"Descuento Aplicado (%)\", alpha=0.5)\n",
    "plt.title(\"Relación entre días para caducar y descuentos\")\n",
    "plt.xlabel(\"Días para caducar\")\n",
    "plt.ylabel(\"Descuento (%)\")\n",
    "plt.show()\n"
   ]
  },
  {
   "cell_type": "code",
   "execution_count": 7,
   "id": "9cd65bc7-aeb7-481c-990e-8084b9a3652a",
   "metadata": {},
   "outputs": [
    {
     "name": "stdout",
     "output_type": "stream",
     "text": [
      "Productos con precios extremos:\n",
      "Empty DataFrame\n",
      "Columns: [Producto ID, Producto, Categoría, Fecha de Producción, Fecha de Expiración, Precio Original, Stock Inicial]\n",
      "Index: []\n",
      "Ventas con inconsistencias:\n",
      "Empty DataFrame\n",
      "Columns: [Producto ID, Fecha de Venta, Ventas (unidades), Descuento Aplicado (%), Precio Final, Descuento Aplicado (bool), Stock Restante, Fecha de Expiración, Dias_para_Caducar]\n",
      "Index: []\n",
      "Empty DataFrame\n",
      "Columns: [Producto ID, Fecha de Venta, Ventas (unidades), Descuento Aplicado (%), Precio Final, Descuento Aplicado (bool), Stock Restante, Fecha de Expiración, Dias_para_Caducar]\n",
      "Index: []\n"
     ]
    }
   ],
   "source": [
    "# Productos con precios extremadamente altos o bajos\n",
    "print(\"Productos con precios extremos:\")\n",
    "print(productos_df[productos_df[\"Precio Original\"] > 100])\n",
    "\n",
    "# Ventas con descuentos negativos o stock restante negativo\n",
    "print(\"Ventas con inconsistencias:\")\n",
    "print(ventas_df[ventas_df[\"Descuento Aplicado (%)\"] < 0])\n",
    "print(ventas_df[ventas_df[\"Stock Restante\"] < 0])\n"
   ]
  }
 ],
 "metadata": {
  "kernelspec": {
   "display_name": "Python 3 (ipykernel)",
   "language": "python",
   "name": "python3"
  },
  "language_info": {
   "codemirror_mode": {
    "name": "ipython",
    "version": 3
   },
   "file_extension": ".py",
   "mimetype": "text/x-python",
   "name": "python",
   "nbconvert_exporter": "python",
   "pygments_lexer": "ipython3",
   "version": "3.12.4"
  }
 },
 "nbformat": 4,
 "nbformat_minor": 5
}
